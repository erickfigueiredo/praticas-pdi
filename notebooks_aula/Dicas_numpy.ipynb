{
  "nbformat": 4,
  "nbformat_minor": 0,
  "metadata": {
    "colab": {
      "provenance": []
    },
    "kernelspec": {
      "name": "python3",
      "display_name": "Python 3"
    },
    "language_info": {
      "name": "python"
    }
  },
  "cells": [
    {
      "cell_type": "code",
      "execution_count": null,
      "metadata": {
        "id": "wWMPPUKBTd5j"
      },
      "outputs": [],
      "source": [
        "import numpy as np\n",
        "from PIL import Image\n",
        "from time import time\n",
        "\n",
        "path = '/content/drive/MyDrive/2023 1/PDI/Notebooks-aulas/Numpy/'"
      ]
    },
    {
      "cell_type": "markdown",
      "source": [
        "#### **Salvando e carregando uma matriz em disco**\n",
        "\n",
        "O `numpy` oferece recursos para salvar e carregar arquivos de dados em formato binário. Normalmente, utiliza-se a extensão de arquivo `.npy` para denotar estes arquivos, emborta seja possível estabelecer qualquer extensão.\n",
        "\n",
        "***Obs.:** note que após o salvamento, o arquivo `.npy` pode demorar alguns instantes para aparecer na sua pasta do Drive..."
      ],
      "metadata": {
        "id": "5OZ3ihgqUtL5"
      }
    },
    {
      "cell_type": "code",
      "source": [
        "# Obtendo os dados da imagem \"pedacinho.png\" e salvando em disco\n",
        "img = Image.open(path + 'pedacinho.png')\n",
        "arr = np.asarray(img).astype(int)\n",
        "\n",
        "np.save(path + 'matriz3d.npy', arr)"
      ],
      "metadata": {
        "id": "0JGhLzybTp0l"
      },
      "execution_count": null,
      "outputs": []
    },
    {
      "cell_type": "code",
      "source": [
        "# Carregando os dados da matriz salva\n",
        "matriz = np.load(path + 'matriz3d.npy')\n",
        "\n",
        "print(matriz.shape)"
      ],
      "metadata": {
        "id": "Nk2h5qYWUyVA"
      },
      "execution_count": null,
      "outputs": []
    },
    {
      "cell_type": "markdown",
      "source": [
        "#### **Trabalhando com fatiamentos e projeções**\n",
        "\n",
        "Vamos tentar extrar a informação composta por apenas pelo canal verde (eixo 2, posição 1) da matriz."
      ],
      "metadata": {
        "id": "uo7pIuHLVyox"
      }
    },
    {
      "cell_type": "code",
      "source": [
        "# Fatiamento\n",
        "fatia = matriz[:,:,1] # :,: --> todas linhas, todas colunas\n",
        "print(fatia.shape)"
      ],
      "metadata": {
        "id": "y-ZD3hTkVwea"
      },
      "execution_count": null,
      "outputs": []
    },
    {
      "cell_type": "markdown",
      "source": [
        "Note que o fatiamento acima é o que traz o resultado esperado. É comum se confundir esta operação com:"
      ],
      "metadata": {
        "id": "hCo53u9PnDsf"
      }
    },
    {
      "cell_type": "code",
      "source": [
        "teste1 = matriz[:,:][1]\n",
        "print(teste1.shape)"
      ],
      "metadata": {
        "id": "_c8R1fz0WYqx"
      },
      "execution_count": null,
      "outputs": []
    },
    {
      "cell_type": "markdown",
      "source": [
        "Na operação acima, estamos extraindo a matriz toda (:,:) e dela acessando a segunda linha (posição 1). Veja a equivalência com a operação a seguir:"
      ],
      "metadata": {
        "id": "lctIfnxanLxr"
      }
    },
    {
      "cell_type": "code",
      "source": [
        "teste2 = matriz[1]\n",
        "print(teste2.shape)"
      ],
      "metadata": {
        "id": "wOKcvhI5nU-5"
      },
      "execution_count": null,
      "outputs": []
    },
    {
      "cell_type": "markdown",
      "source": [
        "A primeira linha (como qualquer outra) possui 44 colunas e 3 \"camadas\" de profundidade.\n",
        "\n",
        "No entanto, dependendo da forma como são feitos, o fatiamento e as projeções podem trazer resultados equivalentes. Veja um caso:"
      ],
      "metadata": {
        "id": "TUrYtHOim7B6"
      }
    },
    {
      "cell_type": "code",
      "source": [
        "teste3 = matriz[1][3]\n",
        "print(teste3.shape)"
      ],
      "metadata": {
        "id": "qPedu8JqmzvX"
      },
      "execution_count": null,
      "outputs": []
    },
    {
      "cell_type": "code",
      "source": [
        "teste4 = matriz[1,3]\n",
        "print(teste4.shape)"
      ],
      "metadata": {
        "id": "QrDlMTP7n4_J"
      },
      "execution_count": null,
      "outputs": []
    },
    {
      "cell_type": "code",
      "source": [
        "teste5 = matriz[1,3,:]\n",
        "print(teste5.shape)"
      ],
      "metadata": {
        "id": "iuI9yvyYn9tp"
      },
      "execution_count": null,
      "outputs": []
    },
    {
      "cell_type": "markdown",
      "source": [
        "Na dúvida, priorize o **fatiamento**.\n",
        "\n",
        "Vamos recordar outros detalhes do fatiamento.\n",
        "\n",
        "- Valores negativos acessam as posições \"de trás para frente\""
      ],
      "metadata": {
        "id": "umArJYKeoRYD"
      }
    },
    {
      "cell_type": "code",
      "source": [
        "teste = matriz[:-4, :-1] # -4 estabelece que pararemos a fatia ANTES das 4 últimas posições\n",
        "print(matriz.shape, teste.shape)"
      ],
      "metadata": {
        "id": "cuW6QwYSoC9r"
      },
      "execution_count": null,
      "outputs": []
    },
    {
      "cell_type": "markdown",
      "source": [
        "- Não é possível \"decrescer\" posições\n",
        "- Note o caso estranho de matriz com dimensão de tamanho zero"
      ],
      "metadata": {
        "id": "Hbq3yJ8bpmBB"
      }
    },
    {
      "cell_type": "code",
      "source": [
        "teste = matriz[-1:-3]\n",
        "print(matriz.shape, teste.shape)\n",
        "print(teste)"
      ],
      "metadata": {
        "id": "LSBPSp3fo-TC"
      },
      "execution_count": null,
      "outputs": []
    },
    {
      "cell_type": "markdown",
      "source": [
        "- No entanto, é possível iniciar uma fatia com valor negativo, desde que o mesmo aumente:"
      ],
      "metadata": {
        "id": "oXROzbBHprfF"
      }
    },
    {
      "cell_type": "code",
      "source": [
        "# Acessando as 4 últimas colunas da matriz:\n",
        "teste = matriz[:,-4:,:]\n",
        "print(matriz.shape, teste.shape)"
      ],
      "metadata": {
        "id": "Pfh8wY95paWc"
      },
      "execution_count": null,
      "outputs": []
    },
    {
      "cell_type": "code",
      "source": [
        "# Acessando as 3 colunas da matriz antes da última:\n",
        "teste = matriz[:,-4:-1,:]\n",
        "print(matriz.shape, teste.shape)"
      ],
      "metadata": {
        "id": "U-Y187yDp4C6"
      },
      "execution_count": null,
      "outputs": []
    },
    {
      "cell_type": "markdown",
      "source": [
        "Também é possível se estabelecer passos para a indexação do fatiamento. Neste caso, vamos utilizar um array linear pequeno, para entender melhor o que está acontecendo..."
      ],
      "metadata": {
        "id": "6T-v48U-qPiu"
      }
    },
    {
      "cell_type": "code",
      "source": [
        "x = np.arange(12)\n",
        "print(x)"
      ],
      "metadata": {
        "id": "2SHOt4mEqbdr"
      },
      "execution_count": null,
      "outputs": []
    },
    {
      "cell_type": "markdown",
      "source": [
        "***Obs.:** abrindo um breve parêntesis, vale destacar aqui que há uma função com objetivo e funcionamento similar ao de `arange` que, no entanto, é diferente. É a função `linspace`. Veja abaixo:"
      ],
      "metadata": {
        "id": "qVDfJKmNQV01"
      }
    },
    {
      "cell_type": "code",
      "source": [
        "# arange produz um array com uma sequência de inteiros\n",
        "# Os parâmetros são: início (opcional), parada (obrigatório) e passo (opcional)\n",
        "tmp = np.arange(2,10,2)\n",
        "print(tmp)\n",
        "\n",
        "# linspace produz um array com uma sequência de valores igualmente espaçados\n",
        "# dentro dos limites estabelecidos. Os valores produzidos são float, não int\n",
        "# Os parâmetros são: início, parada e quantidade de valores gerados\n",
        "# Há um parâmetro opcional, chamado endpoint, para informar se a parada\n",
        "# será gerada (True) ou não (False), o valor default é True\n",
        "tmp2 = np.linspace(2,10,5)\n",
        "print(tmp2)\n",
        "\n",
        "tmp3 = np.linspace(2,10,5,endpoint=False)\n",
        "print(tmp3)\n",
        "\n",
        "tmp4 = np.linspace(2,10,8)\n",
        "print(tmp4)"
      ],
      "metadata": {
        "id": "bkSX2bcsQlNC"
      },
      "execution_count": null,
      "outputs": []
    },
    {
      "cell_type": "markdown",
      "source": [
        "**Retomando o estudo de fatiamento...**\n",
        "\n",
        "Vamos usar a notação: `início:parada:passo` para acessar as posições ímpares de `x`:"
      ],
      "metadata": {
        "id": "wYHri3YRqjBa"
      }
    },
    {
      "cell_type": "code",
      "source": [
        "print(x[1:12:2])"
      ],
      "metadata": {
        "id": "H4BkuBqXqg3_"
      },
      "execution_count": null,
      "outputs": []
    },
    {
      "cell_type": "markdown",
      "source": [
        "Note que começamos na posição 1, usamos o valor 12 como critério de parada e avançamos de 2 em dois valores. Estes três parâmetros possuem valores *default*, caso omitidos:\n",
        "\n",
        "- Início: 0\n",
        "- Parada: tamanho do array\n",
        "- Passo: 1"
      ],
      "metadata": {
        "id": "o-0Btu3Eq1BW"
      }
    },
    {
      "cell_type": "code",
      "source": [
        "print(\"Omitindo a parada:\", x[1::2])\n",
        "print(\"Omitindo o passo:\", x[1:])\n",
        "print(\"Omitindo o início:\", x[:7:3])\n",
        "print(\"Omitindo início e parada:\", x[::2])"
      ],
      "metadata": {
        "id": "tqG7SlsPqzF2"
      },
      "execution_count": null,
      "outputs": []
    },
    {
      "cell_type": "markdown",
      "source": [
        "Também é possível se trabalhar com valores negativos:"
      ],
      "metadata": {
        "id": "PyKWmm3HrvD9"
      }
    },
    {
      "cell_type": "code",
      "source": [
        "print(\"Passo negativo, começando da quarta posição de trás pra frente:\", x[-4::-1])\n",
        "print(\"Passo positivo, começando da quarta posição de trás pra frente:\", x[-4::])"
      ],
      "metadata": {
        "id": "nF27CzmIrzrr"
      },
      "execution_count": null,
      "outputs": []
    },
    {
      "cell_type": "markdown",
      "source": [
        "Note, no entanto, que a lógica da `parada` não é a de posição final, mas a de critério de parada. Portanto, para se partir do penúltimo elemento até o elemento da posição 3 do arranjo, em ordem reversa, utilizamos:"
      ],
      "metadata": {
        "id": "WDjCk-2Zs6GZ"
      }
    },
    {
      "cell_type": "code",
      "source": [
        "print(x[-2:2:-1])"
      ],
      "metadata": {
        "id": "vpjqjTzhs4xv"
      },
      "execution_count": null,
      "outputs": []
    },
    {
      "cell_type": "markdown",
      "source": [
        "Para concluir, vejamos a notação para gerar uma cópia reversa do array:"
      ],
      "metadata": {
        "id": "h6k8M8r6tT2F"
      }
    },
    {
      "cell_type": "code",
      "source": [
        "y = x[::-1]\n",
        "print(x.shape, y.shape)\n",
        "print(x)\n",
        "print(y)"
      ],
      "metadata": {
        "id": "Drhf_6sRtOmP"
      },
      "execution_count": null,
      "outputs": []
    },
    {
      "cell_type": "markdown",
      "source": [
        "#### **Redimensionamento**\n",
        "\n",
        "Podemos usar a função `reshape` para redimensionar um array:"
      ],
      "metadata": {
        "id": "yia2HXlTt1sy"
      }
    },
    {
      "cell_type": "code",
      "source": [
        "# Reorganizando x em uma matriz 3x4\n",
        "X = np.reshape(x, (3,4))\n",
        "print(X.shape)\n",
        "print(X)"
      ],
      "metadata": {
        "id": "OoRzP9VfuCr2"
      },
      "execution_count": null,
      "outputs": []
    },
    {
      "cell_type": "code",
      "source": [
        "# Redimensionando y para a mesma forma de X\n",
        "Y = np.reshape(y, X.shape)\n",
        "print(Y.shape)\n",
        "print(Y)"
      ],
      "metadata": {
        "id": "7EP96ihNuP8O"
      },
      "execution_count": null,
      "outputs": []
    },
    {
      "cell_type": "markdown",
      "source": [
        "#### **Usando fatiamento em múltiplas dimensões**\n",
        "\n",
        "Vamos elaborar um pouco mais sobre o fatiamento em arrays multidimensionais..."
      ],
      "metadata": {
        "id": "Uxkc6mysugER"
      }
    },
    {
      "cell_type": "code",
      "source": [
        "# Obtendo os dados das colunas ímpares de X\n",
        "C = X[:, 1::2]\n",
        "print(X, end='\\n\\n')\n",
        "print(C)"
      ],
      "metadata": {
        "id": "nznLRQTSuaj2"
      },
      "execution_count": null,
      "outputs": []
    },
    {
      "cell_type": "code",
      "source": [
        "# Obtendo os dados das linhas pares e colunas ímpares de X\n",
        "C = X[::2, 1::2]\n",
        "print(X, end='\\n\\n')\n",
        "print(C)"
      ],
      "metadata": {
        "id": "mhVRmVs6vAL_"
      },
      "execution_count": null,
      "outputs": []
    },
    {
      "cell_type": "code",
      "source": [
        "# Invertendo dimensões: ordem das linhas\n",
        "C = X[::-1]\n",
        "D = X[::-1,:]\n",
        "print(X, end='\\n\\n')\n",
        "print(C, end='\\n\\n')\n",
        "print(D)"
      ],
      "metadata": {
        "id": "tRxWoAzcv9W6"
      },
      "execution_count": null,
      "outputs": []
    },
    {
      "cell_type": "code",
      "source": [
        "# Invertendo dimensões: ordem das colunas\n",
        "C = X[:, ::-1]\n",
        "print(X, end='\\n\\n')\n",
        "print(C)"
      ],
      "metadata": {
        "id": "-O4WugZNwVlf"
      },
      "execution_count": null,
      "outputs": []
    },
    {
      "cell_type": "code",
      "source": [
        "# Invertendo dimensões: tudo\n",
        "C = X[::-1,::-1]\n",
        "print(X, end='\\n\\n')\n",
        "print(C)"
      ],
      "metadata": {
        "id": "--f7XsnfweQ_"
      },
      "execution_count": null,
      "outputs": []
    },
    {
      "cell_type": "markdown",
      "source": [
        "**Pergunta 1:** esta operação de fatiamento corresponde à que transformação geométrica em uma imagem?\n",
        "\n",
        "**Pergunta 2:** e a operação a seguir?"
      ],
      "metadata": {
        "id": "JSgUxjx9wvsG"
      }
    },
    {
      "cell_type": "code",
      "source": [
        "C = X.T[::-1,:]\n",
        "print(X, end='\\n\\n')\n",
        "print(C)"
      ],
      "metadata": {
        "id": "OK59FqwNwurv"
      },
      "execution_count": null,
      "outputs": []
    },
    {
      "cell_type": "code",
      "source": [
        "# Invertendo dimensões: ordem das camadas\n",
        "C = matriz[:,:,::-1]\n",
        "print(matriz.shape, C.shape, end='\\n\\n')\n",
        "print(matriz[:3,:3,:], end='\\n\\n======\\n\\n')\n",
        "print(C[:3,:3,:])"
      ],
      "metadata": {
        "id": "DNbL9oW1xjo-"
      },
      "execution_count": null,
      "outputs": []
    },
    {
      "cell_type": "markdown",
      "source": [
        "#### **Mais exemplos**\n",
        "\n",
        "Vamos gerar uma imagem em tons de cinza a partir da média dos valores de cada canal, de maneiras diferentes.\n",
        "\n",
        "#### **a. Acessando pixel a pixel**"
      ],
      "metadata": {
        "id": "S8q0EvsRxdwO"
      }
    },
    {
      "cell_type": "code",
      "source": [
        "# Cria uma matriz preenchida com valores zero, com o mesmo número de linhas e colunas de matriz\n",
        "inicio = time()\n",
        "cinza1 = np.zeros(matriz.shape[:-1]) # Atenção, usamos o fatiamento no atributo shape :-)\n",
        "print(cinza1.shape)\n",
        "\n",
        "for i in range(matriz.shape[0]):\n",
        "  for j in range(matriz.shape[1]):\n",
        "    # Cada pixel tem o formato 1x3\n",
        "    cinza1[i,j] = matriz[i,j].mean() # Calcula a média dos valores do pixel\n",
        "\n",
        "fim = time()\n",
        "\n",
        "duracao_metodo1 = fim - inicio"
      ],
      "metadata": {
        "id": "XCCb2G3jzgVV"
      },
      "execution_count": null,
      "outputs": []
    },
    {
      "cell_type": "markdown",
      "source": [
        "Note que no códico acima, a média dos canais do pixel poderia ser calculada de diversas formas. Alguns exemplos:\n",
        "\n",
        "- `cinza1[i,j] = (matriz[i,j,0] + matriz[i,j,1] + matriz[i,j,2]) / 3`\n",
        "- `cinza1[i,j] = np.mean(matriz[i,j])`\n",
        "- `cinza1[i,j] = np.sum(matriz[i,j]) / len(matriz[i,j])`\n",
        "- `cinza1[i,j] = matriz[i,j].sum() / matriz[i,j].shape[0]`\n",
        "\n",
        "#### **b. Acessando camada por camada, via fatiamento**"
      ],
      "metadata": {
        "id": "qwRyfIDW0gLk"
      }
    },
    {
      "cell_type": "code",
      "source": [
        "inicio = time()\n",
        "cinza2 = np.zeros(matriz.shape[:-1])\n",
        "# Manteremos o print para que haja a mesma quantidade de I/0 do método anterior\n",
        "print(cinza2.shape)\n",
        "\n",
        "# Percorre canal a canal somando os valores das fatias\n",
        "canais = 3\n",
        "for c in range(canais):\n",
        "  # Soma os valores dos dados do canal c\n",
        "  cinza2 += matriz[:,:,c]\n",
        "# Calcula a média\n",
        "cinza2 /= canais\n",
        "\n",
        "fim = time()\n",
        "\n",
        "duracao_metodo2 = fim - inicio"
      ],
      "metadata": {
        "id": "BSy0CRNMxiPt"
      },
      "execution_count": null,
      "outputs": []
    },
    {
      "cell_type": "markdown",
      "source": [
        "#### **c. Usando funções que são capazes de atuar sobre os eixos do array**"
      ],
      "metadata": {
        "id": "wq2CwNgy2EaJ"
      }
    },
    {
      "cell_type": "code",
      "source": [
        "inicio = time()\n",
        "\n",
        "# No nosso caso: eixo 0 --> linhas, eixo 1 --> colunas e eixo 2 --> canais\n",
        "cinza3 = np.mean(matriz, axis=2)\n",
        "\n",
        "# Manteremos o print para que haja a mesma quantidade de I/0 do método anterior\n",
        "print(cinza3.shape)\n",
        "\n",
        "fim = time()\n",
        "\n",
        "duracao_metodo3 = fim - inicio"
      ],
      "metadata": {
        "id": "AmIxGxHX0Y_N"
      },
      "execution_count": null,
      "outputs": []
    },
    {
      "cell_type": "markdown",
      "source": [
        "#### **d. Comparando resultados**\n",
        "\n",
        "Primeiramente, vamos garantir que as três operações produziram o mesmo resultado. Vamos utilizar RMSE para comparação. Se der zero ou muito próximo de zero, os métodos se equivalem."
      ],
      "metadata": {
        "id": "X4dr7Wny2Pkl"
      }
    },
    {
      "cell_type": "code",
      "source": [
        "def rmse(arr1, arr2):\n",
        "  return np.sqrt(np.sum((arr1 - arr2)**2))"
      ],
      "metadata": {
        "id": "axeSRvD6y3u5"
      },
      "execution_count": null,
      "outputs": []
    },
    {
      "cell_type": "code",
      "source": [
        "# Comparando os dois primeiros métodos\n",
        "difA = rmse(cinza1, cinza2)\n",
        "\n",
        "# Comparando os dois últimos métodos\n",
        "difB = rmse(cinza2, cinza3)\n",
        "\n",
        "print('%.6f e %.6f' % (difA, difB))"
      ],
      "metadata": {
        "id": "wVudY3fB2kxa"
      },
      "execution_count": null,
      "outputs": []
    },
    {
      "cell_type": "markdown",
      "source": [
        "Se $dif(A,B) = 0$ e $dif(B,C) = 0$, então $dif(A,C) = 0$. Portanto, os métodos se equivalem e produzem os mesmos resultados.\n",
        "\n",
        "Verificaremos, agora, os tempos de execução."
      ],
      "metadata": {
        "id": "VvK1uhje26Z4"
      }
    },
    {
      "cell_type": "code",
      "source": [
        "print('Acesso pixel a pixel: %.4fs' % duracao_metodo1)\n",
        "print('    Acesso às fatias: %.4fs' % duracao_metodo2)\n",
        "print('       Usando função: %.4fs' % duracao_metodo3)"
      ],
      "metadata": {
        "id": "QRs26BMP2458"
      },
      "execution_count": null,
      "outputs": []
    },
    {
      "cell_type": "markdown",
      "source": [
        "Não há diferenças significativas entre a segunda e a terceira abordagens.\n",
        "\n",
        "#### **Observações:**\n",
        "\n",
        "1. Diversas funções `numpy` podem ser acessadas de forma independente ou diretamente a partir do array. Ex.:\n",
        "  - `np.mean(a)` ou `a.mean()`, onde `a` é um array numpy\n",
        "  - `np.reshape(a, forma)` ou `a.reshape(forma)`, onde `forma` é uma tupla contendo o novo formato\n",
        "\n",
        "2. Tenha cuidado ao trabalhar com as funções que admitem operar sobre os eixos de um array, pois o uso equivocado pode produzir resultados inesperados. Veja exemplos na célula a seguir:"
      ],
      "metadata": {
        "id": "4cEaOQI_3e-_"
      }
    },
    {
      "cell_type": "code",
      "source": [
        "print('Formato da matriz original:', matriz.shape)\n",
        "\n",
        "# calcula a média de TODOS os valores da matriz, produzindo um único resultado (escalar)\n",
        "m1 = matriz.mean() # equivale a: m1 = np.mean(matriz)\n",
        "\n",
        "print('Média de todos os dados da matriz (m1): %.4f' % m1)\n",
        "print('Formato de m1:', m1.shape)\n",
        "\n",
        "# atuando no eixo 0\n",
        "m2 = matriz.mean(axis=0) # equivale a: m2 = np.mean(matriz, axis=0)\n",
        "print('Formato de m2 (eixo 0):', m2.shape)\n",
        "\n",
        "# atuando no eixo 1\n",
        "m3 = matriz.mean(axis=1) # equivale a: m3 = np.mean(matriz, axis=1)\n",
        "print('Formato de m3 (eixo 1):', m3.shape)\n",
        "\n",
        "# atuando no eixo 2\n",
        "m4 = matriz.mean(axis=2) # equivale a: m4 = np.mean(matriz, axis=2)\n",
        "print('Formato de m4 (eixo 2):', m4.shape)\n",
        "print()\n",
        "\n",
        "# valor médio de cada canal:\n",
        "passo1 = matriz.mean(axis=0)\n",
        "print('Passo 1:', passo1.shape)\n",
        "\n",
        "passo2 = passo1.mean(axis=0)\n",
        "print('Passo 2:', passo2.shape)\n",
        "\n",
        "# De forma compacta:\n",
        "mediaRGB = matriz.mean(axis=0).mean(axis=0)\n",
        "print('Valores médios em cada canal:', mediaRGB)\n",
        "print('Valores Arredondados:', mediaRGB.round())\n",
        "print('Conferindo: %.4f' % mediaRGB.mean())"
      ],
      "metadata": {
        "id": "CYijgP7N3XK1"
      },
      "execution_count": null,
      "outputs": []
    },
    {
      "cell_type": "markdown",
      "source": [
        "#### **Transposição**\n",
        "\n",
        "Já vimos que o atributo `T` dos arrays numpy entregam a transposta de uma matriz. Mas em matrizes com mais de 2 dimensões, isso pode trazer resultados difíceis de controlar:"
      ],
      "metadata": {
        "id": "xYScr36384BI"
      }
    },
    {
      "cell_type": "code",
      "source": [
        "print(matriz.shape)\n",
        "print(matriz.T.shape)"
      ],
      "metadata": {
        "id": "F-2o8oSD9ZDK"
      },
      "execution_count": null,
      "outputs": []
    },
    {
      "cell_type": "markdown",
      "source": [
        "Uma alternativa flexível é utilizar a função `np.transpose`, onde existe um parâmetro `axes`, pelo qual se informa a nova ordem desejada dos eixos:"
      ],
      "metadata": {
        "id": "Yt8DKi819fQ1"
      }
    },
    {
      "cell_type": "code",
      "source": [
        "transp = np.transpose(matriz, axes=(1,0,2)) # invertendo linhas com colunas\n",
        "print(matriz.shape)\n",
        "print(transp.shape)\n",
        "transp = np.transpose(matriz, axes=(1,2,0)) # outra inversão qualquer\n",
        "print(transp.shape)"
      ],
      "metadata": {
        "id": "Sp5NU4Zx9qAY"
      },
      "execution_count": null,
      "outputs": []
    },
    {
      "cell_type": "markdown",
      "source": [
        "#### **Lidando com filtros**\n",
        "\n",
        "Pode-se utilizar o recurso de filtro para atuar apenas em certos elementos de um array.\n",
        "\n",
        "Na realidade, isto é atingido trabalhando-se com arrays de valores booleanos sendo passados como índices do array sobre o qual se deseja aplicar o filtro:"
      ],
      "metadata": {
        "id": "03qumH9m-lof"
      }
    },
    {
      "cell_type": "code",
      "source": [
        "# Retomando a matriz X, pequena\n",
        "print(X, end='\\n\\n')\n",
        "\n",
        "# Produzindo uma matriz booleana\n",
        "Y = X > 5\n",
        "\n",
        "print(X.shape, Y.shape, end='\\n\\n')\n",
        "\n",
        "print(Y, end='\\n\\n')\n",
        "\n",
        "# Filtrando\n",
        "F = X[Y]\n",
        "\n",
        "print(F.shape, end='\\n\\n')\n",
        "print(F)"
      ],
      "metadata": {
        "id": "vsbkE0TP97M1"
      },
      "execution_count": null,
      "outputs": []
    },
    {
      "cell_type": "markdown",
      "source": [
        "Aplicando-se diretamente a noção de filtro:"
      ],
      "metadata": {
        "id": "_ltgUwHM_ySE"
      }
    },
    {
      "cell_type": "code",
      "source": [
        "F = X[X > 5]\n",
        "\n",
        "print(F.shape, end='\\n\\n')\n",
        "print(F)"
      ],
      "metadata": {
        "id": "WcDXfcJb_1wi"
      },
      "execution_count": null,
      "outputs": []
    },
    {
      "cell_type": "markdown",
      "source": [
        "Operações envolvendo array filtrados só funcionarão se os operandos possuírem formas compatíveis:"
      ],
      "metadata": {
        "id": "l2jYmxIL_-R5"
      }
    },
    {
      "cell_type": "code",
      "source": [
        "# Produzindo um outro array para operar com X\n",
        "Y = X / 2\n",
        "\n",
        "print(Y, end='\\n\\n')"
      ],
      "metadata": {
        "id": "nOghAXLJ_60C"
      },
      "execution_count": null,
      "outputs": []
    },
    {
      "cell_type": "markdown",
      "source": [
        "Note, abaixo, que ao utilizarmos o mesmo filtro em amobs casos, estamos atuando sobre as mesmas posições dos arranjos envolvidos, uma vez que X e Y possuem o mesmo formato:"
      ],
      "metadata": {
        "id": "dmy01fD2AkFF"
      }
    },
    {
      "cell_type": "code",
      "source": [
        "print(X[X > 5], end='\\n\\n')\n",
        "print(Y[X > 5], end='\\n\\n')"
      ],
      "metadata": {
        "id": "87F_zS-6AWz1"
      },
      "execution_count": null,
      "outputs": []
    },
    {
      "cell_type": "markdown",
      "source": [
        "Produzindo um resultado:"
      ],
      "metadata": {
        "id": "asa4Sb0EA288"
      }
    },
    {
      "cell_type": "code",
      "source": [
        "F = X[X > 5] + Y[X > 5]\n",
        "print(F.shape, end='\\n\\n')\n",
        "print(F)"
      ],
      "metadata": {
        "id": "YkFCwYvQA6Bf"
      },
      "execution_count": null,
      "outputs": []
    },
    {
      "cell_type": "markdown",
      "source": [
        "Note, ainda, que pode-se filtrar também sobre o array que receberá o resultado:"
      ],
      "metadata": {
        "id": "N-iYptJ_BB1E"
      }
    },
    {
      "cell_type": "code",
      "source": [
        "# Produzindo um array preenchido com zeros e a mesma forma de X\n",
        "F = np.zeros_like(X)\n",
        "\n",
        "# Aplicando o filtro a todos arrays envolvidos\n",
        "F[X > 5] = X[X > 5] + Y[X > 5]\n",
        "\n",
        "print(F.shape, end='\\n\\n')\n",
        "print(F)"
      ],
      "metadata": {
        "id": "vCF83UVcBGfw"
      },
      "execution_count": null,
      "outputs": []
    },
    {
      "cell_type": "markdown",
      "source": [
        "Pode-se, ainda, combinar múltiplas condições para aplicação de filtros. Vamos considerar os arrays booleanos a seguir:"
      ],
      "metadata": {
        "id": "YGCI8L_UBapJ"
      }
    },
    {
      "cell_type": "code",
      "source": [
        "A = (X >= 5)\n",
        "B = (Y >= 5)\n",
        "\n",
        "print(A, end='\\n\\n')\n",
        "print(B, end='\\n\\n')"
      ],
      "metadata": {
        "id": "n5gdXc1vBiJe"
      },
      "execution_count": null,
      "outputs": []
    },
    {
      "cell_type": "markdown",
      "source": [
        "As operações lógicas sobre arrays booleanos não são diretas como nos dados primitivos:"
      ],
      "metadata": {
        "id": "ZOIJ98C9B1vA"
      }
    },
    {
      "cell_type": "code",
      "source": [
        "# Descomente a linha abaixo e veja que uma exceção é lançada\n",
        "# print(A and B)"
      ],
      "metadata": {
        "id": "QxndE8QTCwWO"
      },
      "execution_count": null,
      "outputs": []
    },
    {
      "cell_type": "markdown",
      "source": [
        "Para isso, essencialmente, devemos escolher se uma operação lógica entre arrays booleanos é satisfeita se:\n",
        "\n",
        "- Pelo menos um par de elementos atende à operação\n",
        "- Todos pares de elementos atendem à operação"
      ],
      "metadata": {
        "id": "ZrWZCDNuC48Z"
      }
    },
    {
      "cell_type": "code",
      "source": [
        "# Pelo menos um (any):\n",
        "\n",
        "print(A.any() and B)\n",
        "# A linha abaixo produz erro (lança exceção)\n",
        "# print(A and B.any())\n",
        "print(A.any() and B.any())"
      ],
      "metadata": {
        "id": "iivoBW_gC20v"
      },
      "execution_count": null,
      "outputs": []
    },
    {
      "cell_type": "code",
      "source": [
        "# Todos (all):\n",
        "\n",
        "print(A.all() and B)\n",
        "# A linha abaixo produz erro (lança exceção)\n",
        "# print(A and B.all())\n",
        "print(A.all() and B.all())"
      ],
      "metadata": {
        "id": "nyFPaelBDrCK"
      },
      "execution_count": null,
      "outputs": []
    },
    {
      "cell_type": "code",
      "source": [
        "# Mesclando:\n",
        "print(A.any() and B.all())\n",
        "print(A.all() and B.any())"
      ],
      "metadata": {
        "id": "LDbLpb8RD__K"
      },
      "execution_count": null,
      "outputs": []
    },
    {
      "cell_type": "markdown",
      "source": [
        "- `any()` e `all()` também aceitam operação sobre eixos (parâmetro `axis`)\n",
        "- `any()` e `all()` também podem ser evocados sem ser via array, como `np.all()` ou `np.any()`\n",
        "\n",
        "No entanto, há um análogo às operações bit a bit nos arrays numpy. Ao invés de chamarmos de *bitwise*, chamamos de *element-wise*:"
      ],
      "metadata": {
        "id": "hQeNkzd9EMI0"
      }
    },
    {
      "cell_type": "code",
      "source": [
        "print('A')\n",
        "print(A, end='\\n\\n')\n",
        "print('B')\n",
        "print(B, end='\\n\\n')\n",
        "\n",
        "# Ou element-wise\n",
        "C = A | B\n",
        "print('A | B')\n",
        "print(C, end='\\n\\n')\n",
        "\n",
        "# E element-wise\n",
        "C = A & B\n",
        "print('A & B')\n",
        "print(C, end='\\n\\n')"
      ],
      "metadata": {
        "id": "EGoFFQJpEgyf"
      },
      "execution_count": null,
      "outputs": []
    },
    {
      "cell_type": "markdown",
      "source": [
        "Desta forma, podemos fazer operações como:"
      ],
      "metadata": {
        "id": "QilEVtbtFNGJ"
      }
    },
    {
      "cell_type": "code",
      "source": [
        "F = np.zeros_like(X)\n",
        "\n",
        "print(X > 5, end='\\n\\n')\n",
        "\n",
        "print(Y <= 4, end='\\n\\n')\n",
        "\n",
        "F[(X > 5) & (Y <= 4)] = 50\n",
        "\n",
        "print(F)"
      ],
      "metadata": {
        "id": "YZhoUWYBFPhN"
      },
      "execution_count": null,
      "outputs": []
    },
    {
      "cell_type": "markdown",
      "source": [
        "#### **Aplicação 1**\n",
        "\n",
        "Vamos juntar boa parte do que vimos até aqui em uma aplicação:"
      ],
      "metadata": {
        "id": "j9CeFTALGDaP"
      }
    },
    {
      "cell_type": "code",
      "source": [
        "# Abre a imagem ipe_amarelo.jpg e extrai seu array de dados\n",
        "img = Image.open(path + 'ipe_amarelo.jpg')\n",
        "arr = np.asarray(img).astype(int)\n",
        "\n",
        "# Calculando o valor médio em cada canal\n",
        "medias = arr.mean(axis=0).mean(axis=0)\n",
        "\n",
        "# Criando uma imagem toda preta\n",
        "arrFiltro = np.zeros_like(arr)\n",
        "\n",
        "# Verificando os pixels onde todos os valores dos canais estão\n",
        "# abaixo da média do canal correspondente\n",
        "testeR = arr[:,:,0] < medias[0]\n",
        "testeG = arr[:,:,1] < medias[1]\n",
        "testeB = arr[:,:,2] < medias[2]\n",
        "teste = testeR & testeG & testeB\n",
        "\n",
        "# Copia somente aquelas posições para a imagem de resposta\n",
        "arrFiltro[teste] = arr[teste]\n",
        "\n",
        "imgFiltro = Image.fromarray(arrFiltro.astype(np.uint8))\n",
        "display(img)\n",
        "display(imgFiltro)"
      ],
      "metadata": {
        "id": "ECY7wYUHGHzM"
      },
      "execution_count": null,
      "outputs": []
    },
    {
      "cell_type": "markdown",
      "source": [
        "#### **Aplicação 2: brilho seletivo**"
      ],
      "metadata": {
        "id": "ucxkcdI1Oyqg"
      }
    },
    {
      "cell_type": "code",
      "source": [
        "# Percentual de aumento/diminuição e tipo de efeito\n",
        "fator = 0.2\n",
        "claro = False\n",
        "\n",
        "# Fator de redução de brilho\n",
        "fatorBrilho = round(fator*(arr.max() - arr.min()))\n",
        "operacao = 'aumento' if claro else 'redução'\n",
        "print('Usando fator de %s de brilho de %d' % (operacao, fatorBrilho))\n",
        "\n",
        "# Calculando o valor médio e o desvio padrão em cada canal\n",
        "medias = arr.mean(axis=0).mean(axis=0)\n",
        "\n",
        "# Criando uma imagem toda preta\n",
        "arrFiltro = np.zeros_like(arr)\n",
        "\n",
        "# Verificando os pixels onde todos os valores dos canais estão\n",
        "# abaixo da média do canal correspondente\n",
        "testeR = arr[:,:,0] < medias[0]\n",
        "testeG = arr[:,:,1] < medias[1]\n",
        "testeB = arr[:,:,2] < medias[2]\n",
        "teste = testeR & testeG & testeB\n",
        "\n",
        "# Clareia/copia somente aquelas posições para a imagem de resposta\n",
        "if claro:\n",
        "  arrFiltro[teste] = arr[teste] + fatorBrilho\n",
        "else:\n",
        "  arrFiltro[teste] = arr[teste]\n",
        "\n",
        "# Verificando os pixels onde pelo menos um dos valores dos canais estão\n",
        "# a partir do valor médio do canal\n",
        "testeR = arr[:,:,0] >= medias[0]\n",
        "testeG = arr[:,:,1] >= medias[1]\n",
        "testeB = arr[:,:,2] >= medias[2]\n",
        "teste = testeR | testeG | testeB\n",
        "\n",
        "# Copia/escurece somente aquelas posições para a imagem de resposta\n",
        "if claro:\n",
        "  arrFiltro[teste] = arr[teste]\n",
        "else:\n",
        "  arrFiltro[teste] = arr[teste] - fatorBrilho\n",
        "\n",
        "# Prepara o array pra imagem\n",
        "arrFiltro = arrFiltro.round() # Arredonda entradas\n",
        "arrFiltro = arrFiltro.clip(0, 255) # Poda os valores entre 0 e 255\n",
        "\n",
        "imgFiltro = Image.fromarray(arrFiltro.astype(np.uint8))\n",
        "display(img)\n",
        "display(imgFiltro)"
      ],
      "metadata": {
        "id": "GzKZzvujK2rc"
      },
      "execution_count": null,
      "outputs": []
    },
    {
      "cell_type": "markdown",
      "source": [
        "#### **Considerações Finais**\n",
        "\n",
        "- A biblioteca `numpy` é bastante poderosa e este documento cobriu apenas um pequeno recorte das possibilidades. Para saber mais, consulte a [documentação oficial](https://numpy.org/). Há **MUITO** mais material lá para ser explorado.\n",
        "- Existem também subbibliotecas inteiras temáticas dentro da `numpy`, como a `numpy.linalg`, que possui bastante recursos úteis para manipulação de matrizes como, pra citar apenas um exemplo, um método para inversão de matrizes (usamos na conversão YIQ --> RGB)"
      ],
      "metadata": {
        "id": "cQzH0zeYPLXw"
      }
    }
  ]
}